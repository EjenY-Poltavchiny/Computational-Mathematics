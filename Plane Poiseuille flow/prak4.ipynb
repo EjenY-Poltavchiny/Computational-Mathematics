{
 "cells": [
  {
   "cell_type": "markdown",
   "metadata": {},
   "source": [
    "### Задача о течении в канале\n",
    "\n",
    "Рассматривается задача о развитом течении в канале (Plane Poiseuille flow), см. [1].\n",
    "\n",
    "Границы канала - $y = -1$ и $y = 1$. Ось канала $y = 0$. Канал плоский.\n",
    "\n",
    "1. Khorrami, M. R., & Malik, M. R. (1993). Efficient computation of spatial eigenvalues for hydrodynamic stability analysis. Journal of Computational Physics, 104(1), 267-272."
   ]
  },
  {
   "cell_type": "code",
   "execution_count": 1,
   "metadata": {},
   "outputs": [],
   "source": [
    "# Plane poiseuille flow profile\n",
    "def get_U(y):\n",
    "    return 1 - y**2\n",
    "\n",
    "def get_dudy(y):\n",
    "    return -2*y"
   ]
  },
  {
   "cell_type": "markdown",
   "metadata": {},
   "source": [
    "#### Задача линейной теории устойчивости"
   ]
  },
  {
   "cell_type": "markdown",
   "metadata": {},
   "source": [
    "Рассматривается ламинарное течение в канале. Малы возмущения в канале описываются так\n",
    "$\\mathbf{\\phi'}(\\mathbf{x},t) = \\mathbf{\\hat{\\phi}}(y)\\exp{i(\\alpha x - \\omega t)} $.\n",
    "\n",
    "После подстановки такого возмущения в линеаризованные уравнения Навье-Стокса, линейная система уравнений в частных производных преобразуется к системе обыкновенных дифференциальных уравнений:\n",
    "$(KD^2 + LD +M)\\mathbf{\\hat{\\phi}} = 0$, которая дополняется нулевыми граничными условиями. Здесь $D$ - оператор дифференцирования. Матрицы $K$, $L$ и $M$ в несжимаемом случае имеют размерность $3 \\times 3$. Далее краевая задача с однородными граничными условиями , которая формирует задачу на собственные значения, аппроксимируется конечными разностям и решается во временной постановке, когда в качестве собственного числа рассматривается комплексная частота $\\omega$, а волновое число $\\alpha$ рассматривается как вещественный параметр. "
   ]
  },
  {
   "cell_type": "markdown",
   "metadata": {},
   "source": [
    "#### Сформируем матрицы для решения задачи на собственные значения на собственные значения\n",
    "\n",
    "Поскольку задача здесь рассматривается во временной постановке, то рассматриваем задачу $A\\phi = \\omega B \\phi$. Матрицы $A$ и $B$ получаются после аппроксимации краевой задачи $E_1\\phi_{yy} + E_2\\phi_y + E_3\\phi = \\omega E_4\\phi$. Необходимо на основании уравнений 8-10 из статьи [1] (пренебрегая нелинейными по $\\alpha$ членами) выписать матрицы $E_2$ и $E_3$ (реализовать метод getE2 и getE3). Матрицы  $E_1$ и $E_4$ уже выписаны. Далее необходимо сформировать матрицу $A$ (метод getA_matrix). Метод для формирования матрицы $B$ уже реализован (getB_matrix)."
   ]
  },
  {
   "cell_type": "code",
   "execution_count": 2,
   "metadata": {},
   "outputs": [],
   "source": [
    "from scipy.sparse import block_diag\n",
    "import numpy as np\n",
    "\n",
    "def getE1(Re):\n",
    "    return np.array([[1/Re,   0 , 0],\n",
    "                     [  0 , 1/Re, 0],\n",
    "                     [  0 ,   0 , 0]])\n",
    "\n",
    "def getE2():\n",
    "    return np.array([[0, 0, 0 ],  # Коэф. в каждом уравнении (9) перед первой производной\n",
    "                     [0, 0, -1],  #                          (10)\n",
    "                     [0, 1, 0 ]]) #                          (8)\n",
    "\n",
    "def getE3(alpha, Re, U, dudy):\n",
    "    return np.array([[-1j * alpha * U,    -dudy      ,-1j * alpha],  # Коэф. в уравнении (9) перед функцией фи (без омеги)\n",
    "                     [       0       ,-1j * alpha * U,     0     ],  #                   (10)\n",
    "                     [  1j * alpha   ,      0        ,     0     ]]) #                   (8)\n",
    "\n",
    "# artificial compressibility added (gamma). See: \n",
    "# Khorrami, M. R., Malik, M. R., & Ash, R. L. (1989). Application of spectral collocation techniques\n",
    "# to the stability of swirling flows. Journal of Computational Physics, 81(1), 206-229.\n",
    "def getE4():\n",
    "    gamma = 0.0001\n",
    "    return np.array([[-1j,  0 ,   0   ],\n",
    "                     [ 0 , -1j,   0   ],\n",
    "                     [ 0 ,  0 , -gamma]])\n",
    "\n",
    "def get_y(j, h):\n",
    "    return -1 + h*j\n",
    "\n",
    "def getA_matrix(alpha, Re, N, comp_num = 3):\n",
    "    h = 2/N #h = модуль отрезка / количество шагов\n",
    "    matrix_list = list()\n",
    "    \n",
    "    # Form first line of matrix A\n",
    "    line = list()\n",
    "    y = get_y(1, h)\n",
    "    u = get_U(y)\n",
    "    dudy = get_dudy(y)\n",
    "    E1 = getE1(Re)\n",
    "    E2 = getE2()\n",
    "    E3 = getE3(alpha, Re, u, dudy)\n",
    "\n",
    "    L2 = E3 - 2./h**2*E1\n",
    "    line.append(L2)\n",
    "    L3 = 1./h**2*E1 + 1./(2*h)*E2\n",
    "    line.append(L3)\n",
    "    for i in range(3,N):\n",
    "        line.append(np.zeros((comp_num,comp_num)))\n",
    "    matrix_list.append(line)\n",
    "\n",
    "    # Form inner lines of matrix A\n",
    "    for i in range(2, N-1):\n",
    "        line = list()\n",
    "        y = get_y(i, h)\n",
    "        u = get_U(y)\n",
    "        dudy = get_dudy(y)\n",
    "        E1 = getE1(Re)\n",
    "        E2 = getE2()\n",
    "        E3 = getE3(alpha, Re, u, dudy)\n",
    "        #E4 = getE4()\n",
    "        for j in range(1, N):\n",
    "            if j == i - 1:                           #после аппроксимации выписываем что стоит в n-1 узле\n",
    "                L1 = 1./h**2 * E1 - 1./(2 * h) * E2\n",
    "                line.append(L1)\n",
    "            elif j == i:                             #после аппроксимации выписываем что стоит в n узле\n",
    "                L2 = E3 - 2./h**2 * E1\n",
    "                line.append(L2)\n",
    "            elif j== i + 1:                          #после аппроксимации выписываем что стоит в n+1 узле\n",
    "                L3 = 1./h**2 * E1 + 1./(2 * h) * E2\n",
    "                line.append(L3)\n",
    "            else:\n",
    "                line.append(np.zeros((comp_num,comp_num)))\n",
    "        matrix_list.append(line)\n",
    "\n",
    "    # Form last line of matrix A\n",
    "    line = list()\n",
    "    for i in range(1, N-2):\n",
    "        line.append(np.zeros((comp_num,comp_num)))\n",
    "    \n",
    "    y = get_y(N-1, h)\n",
    "    u = get_U(y)\n",
    "    dudy = get_dudy(y)\n",
    "    E1 = getE1(Re)\n",
    "    E2 = getE2()\n",
    "    E3 = getE3(alpha, Re, u, dudy)\n",
    "    #E4 = getE4()\n",
    "    L1 = 1./h**2 * E1  - 1./(2 * h) * E2\n",
    "    line.append(L1)\n",
    "    L2 = E3 - 2./h**2 * E1\n",
    "    line.append(L2)\n",
    "    matrix_list.append(line)\n",
    "\n",
    "    return np.bmat(matrix_list)\n",
    "\n",
    "def getB_matrix(alpha, Re, N, comp_num = 3):\n",
    "    h = 2/N\n",
    "    print('h = ', h)\n",
    "    matrix_list = list()\n",
    "    for i in range(1,N):\n",
    "        E4 = getE4()\n",
    "        matrix_list.append(E4)\n",
    "    return block_diag(matrix_list).toarray()"
   ]
  },
  {
   "cell_type": "markdown",
   "metadata": {},
   "source": [
    "Теперь решим задачу о поиске неустойчивых мод для течения в канале c числом Рейнольдса $Re = 10000$ для возмущений с волновым числом $\\alpha$. Сначала задаем число узлов в сетке для решения одномерной задачи $N$ и формируем матрицы $A$ и $B$."
   ]
  },
  {
   "cell_type": "code",
   "execution_count": 3,
   "metadata": {},
   "outputs": [
    {
     "name": "stdout",
     "output_type": "stream",
     "text": [
      "h =  0.005\n"
     ]
    }
   ],
   "source": [
    "# Test case\n",
    "import sympy as sp\n",
    "N = 400\n",
    "# test 1\n",
    "alpha = 1\n",
    "Re = 10000\n",
    "A = getA_matrix(alpha, Re, N)\n",
    "B = getB_matrix(alpha, Re, N)"
   ]
  },
  {
   "cell_type": "markdown",
   "metadata": {},
   "source": [
    "Решаем задачу на собственные значения"
   ]
  },
  {
   "cell_type": "code",
   "execution_count": 4,
   "metadata": {},
   "outputs": [],
   "source": [
    "import scipy.linalg as la\n",
    "eigvals = la.eigvals(A, B)\n",
    "eigvals = eigvals/alpha # на графике частоты делят на alpha"
   ]
  },
  {
   "cell_type": "markdown",
   "metadata": {},
   "source": [
    "Строим график для для всех мод "
   ]
  },
  {
   "cell_type": "code",
   "execution_count": 5,
   "metadata": {},
   "outputs": [
    {
     "data": {
      "image/png": "[encoded data removed]",
      "text/plain": [
       "<Figure size 432x288 with 1 Axes>"
      ]
     },
     "metadata": {
      "needs_background": "light"
     },
     "output_type": "display_data"
    }
   ],
   "source": [
    "%matplotlib inline \n",
    "import matplotlib.pyplot as plt\n",
    "\n",
    "plt.plot(eigvals.real, eigvals.imag, '+b', label='Numerical')\n",
    "plt.legend()\n",
    "# test 1\n",
    "plt.xlim(0,1)\n",
    "plt.ylim(-1, 0.1)\n",
    "plt.grid() \n",
    "plt.xlabel('c_re')\n",
    "plt.ylabel('c_im')\n",
    "plt.savefig('Temporal spectrum.png', dpi=200)"
   ]
  },
  {
   "cell_type": "markdown",
   "metadata": {},
   "source": [
    "Присутствуют ли на графике физичные неустойчивые моды? Если да, укажите $\\omega$.\n",
    "\n"
   ]
  },
  {
   "cell_type": "code",
   "execution_count": 10,
   "metadata": {},
   "outputs": [
    {
     "name": "stdout",
     "output_type": "stream",
     "text": [
      "[  0.23556248308881414 ,  0.015116959235864322  ]\n"
     ]
    }
   ],
   "source": [
    "for eigval in eigvals:\n",
    "    if eigval.imag > 0 and eigval.real >= 0 and eigval.real <= 1  and eigval.imag <= 0.1:\n",
    "        #нам нужны моды из нашего \"квадратика\", его действительная чатсть ограничена снизу - 0, сверху 1, а мнимая часть\n",
    "        #ограничена сферху 0.1 и 0 снизу (условие неустойчивости моды)\n",
    "        print((\"[ \"), eigval.real, (\", \"), eigval.imag, (\" ]\"))"
   ]
  },
  {
   "cell_type": "code",
   "execution_count": null,
   "metadata": {},
   "outputs": [],
   "source": []
  }
 ],
 "metadata": {
  "kernelspec": {
   "display_name": "Python 3 (ipykernel)",
   "language": "python",
   "name": "python3"
  },
  "language_info": {
   "codemirror_mode": {
    "name": "ipython",
    "version": 3
   },
   "file_extension": ".py",
   "mimetype": "text/x-python",
   "name": "python",
   "nbconvert_exporter": "python",
   "pygments_lexer": "ipython3",
   "version": "3.9.7"
  }
 },
 "nbformat": 4,
 "nbformat_minor": 2
}
