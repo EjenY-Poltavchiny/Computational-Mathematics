{
 "cells": [
  {
   "cell_type": "markdown",
   "metadata": {},
   "source": [
    "### Предварительные сведения"
   ]
  },
  {
   "cell_type": "markdown",
   "metadata": {},
   "source": [
    "Векторные нормы:\n",
    "\n",
    "$||u||_{\\infty} = \\max_i|u_i|$\n",
    "\n",
    "$||u||_1 = \\sum_i |u_i|$\n",
    "\n",
    "$||u||_2 = \\left(\\sum_i |u_i|^2 \\right)^{\\frac{1}{2}}$\n",
    "\n",
    "Матричные нормы:\n",
    "\n",
    "$||A||_{\\infty} = \\max_i \\sum_j |a_{ij}|$\n",
    "\n",
    "$||A||_1 = \\max_j \\sum_i |a_{ij}|$\n",
    "\n",
    "$||A||_2 = \\left(\\max_i \\lambda_i(A A^*) \\right)^{\\frac{1}{2}}$"
   ]
  },
  {
   "cell_type": "markdown",
   "metadata": {},
   "source": [
    "Контрольный вопрос: какова будет вторая норма матрицы, если матрица самосопряженная?\n",
    "\n",
    "Ваш ответ на контрольный вопрос: вторая норма матрицы будет равна модулю максимального собственного значения этой матрицы"
   ]
  },
  {
   "cell_type": "code",
   "execution_count": 1,
   "metadata": {},
   "outputs": [
    {
     "name": "stdout",
     "output_type": "stream",
     "text": [
      "norm_1 =  5.0\n",
      "norm_2 =  4.844958524498339\n",
      "norm_inf =  7.0\n"
     ]
    },
    {
     "data": {
      "text/plain": [
       "array([[0, 0, 1],\n",
       "       [1, 1, 1],\n",
       "       [4, 2, 1]])"
      ]
     },
     "execution_count": 1,
     "metadata": {},
     "output_type": "execute_result"
    }
   ],
   "source": [
    "import numpy as np\n",
    "import numpy.linalg as la\n",
    "\n",
    "A = np.array([[1,2],[3,4]])\n",
    "v = range(0,3)\n",
    "Vander = np.vander(v)\n",
    "print('norm_1 = ', la.norm(Vander, 1))\n",
    "print('norm_2 = ', la.norm(Vander, 2))\n",
    "print('norm_inf = ', la.norm(Vander, np.inf))\n",
    "Vander"
   ]
  },
  {
   "cell_type": "markdown",
   "metadata": {},
   "source": [
    "Обусловленность:\n",
    "$$(A+\\delta A)u = f + \\delta f$$\n",
    "$$\\frac{||\\delta u||}{||u||}\\le \\frac{\\mu}{1-\\mu\\frac{||\\delta A||}{||A||}} \\left(\\frac{||\\delta f||}{||f||}+\\frac{||\\delta A||}{||A||}\\right)$$\n",
    "\n",
    "$\\mu$ - число обусловленности матрицы A, $\\mu(A) = ||A^{-1}||\\cdot||A||$, $\\mu \\ge 1$.\n",
    "\n"
   ]
  },
  {
   "cell_type": "markdown",
   "metadata": {},
   "source": [
    "## Пример проблемы использования метода Гаусса для решения СЛАУ"
   ]
  },
  {
   "cell_type": "code",
   "execution_count": 2,
   "metadata": {},
   "outputs": [],
   "source": [
    "import numpy as np\n",
    "import numpy.linalg as la\n",
    "\n",
    "def gauss( A, b ):\n",
    "    n = b.size\n",
    "    for k in range(0,n-1):\n",
    "        for i in range(k+1,n):\n",
    "            if A[i,k]!=0:\n",
    "                c = A[i,k]/A[k,k]\n",
    "                A[i,k+1:n] = A[i,k+1:n] - c*A[k,k+1:n]\n",
    "                b[i] = b[i] - c*b[k]\n",
    "                \n",
    "    # обратный ход\n",
    "    for k in range(n-1,-1,-1):\n",
    "        b[k] = (b[k] - np.dot(A[k,k+1:n],b[k+1:n]))/A[k,k];\n",
    "    return b\n",
    "\n",
    "#все числа в представлены как вещественные\n",
    "A1 = np.array([[1e-16, 1., -1.], [-1., 2., -1.], [2., -1., 0.]]);\n",
    "b1 = np.array([0., 0., 1.]);\n",
    "\n",
    "A2 = np.array([[2., -1., 0.], [-1., 2., -1.], [1e-16, 1., -1.]])\n",
    "b2 = np.array([1., 0., 0.])"
   ]
  },
  {
   "cell_type": "code",
   "execution_count": 3,
   "metadata": {},
   "outputs": [
    {
     "name": "stdout",
     "output_type": "stream",
     "text": [
      "[[ 1.e-16  1.e+00 -1.e+00]\n",
      " [-1.e+00  2.e+00 -1.e+00]\n",
      " [ 2.e+00 -1.e+00  0.e+00]]\n"
     ]
    }
   ],
   "source": [
    "print(A1)"
   ]
  },
  {
   "cell_type": "code",
   "execution_count": 4,
   "metadata": {},
   "outputs": [
    {
     "name": "stdout",
     "output_type": "stream",
     "text": [
      "[[ 2.e+00 -1.e+00  0.e+00]\n",
      " [-1.e+00  2.e+00 -1.e+00]\n",
      " [ 1.e-16  1.e+00 -1.e+00]]\n"
     ]
    }
   ],
   "source": [
    "print(A2)"
   ]
  },
  {
   "cell_type": "code",
   "execution_count": 5,
   "metadata": {},
   "outputs": [
    {
     "name": "stdout",
     "output_type": "stream",
     "text": [
      "mu1 =  16.393731622284385\n",
      "mu2 =  16.393731622284392\n",
      "u1 =  [0.55511151 0.25       0.25      ]\n",
      "u2 =  [1. 1. 1.]\n"
     ]
    }
   ],
   "source": [
    "A1 = np.array([[1e-16, 1., -1.], [-1., 2., -1.], [2., -1., 0.]]);\n",
    "b1 = np.array([0., 0., 1.]);\n",
    "\n",
    "A2 = np.array([[2., -1., 0.], [-1., 2., -1.], [1e-16, 1., -1.]])\n",
    "b2 = np.array([1., 0., 0.])\n",
    "\n",
    "print('mu1 = ', la.cond(A1))\n",
    "print('mu2 = ', la.cond(A2))\n",
    "\n",
    "print('u1 = ', gauss(A1, b1))\n",
    "#print('u1 = ', la.solve(A1, b1))\n",
    "print('u2 = ', gauss(A2, b2))#la.solve(A2, b2))"
   ]
  },
  {
   "cell_type": "markdown",
   "metadata": {},
   "source": [
    "## Часть 1. LU разложение"
   ]
  },
  {
   "cell_type": "markdown",
   "metadata": {},
   "source": [
    "Задание: \n",
    "\n",
    "реализовать алгоритм решения предыдущей задачи с матрицей A2 с помощью LU-разложение В решении должна выводиться L, U и собственно решение системы. \n",
    "\n",
    "ВАЖНО: реализация метода LU должна быть получена путем небольшой модификации метода gauss!  При это саму реализацию можно разделить на два метода: один метод собственно находит LU разложение (можно сделать переделкой цикла для матрицы A метода gauss), второй метод - непосредственное решение системы с помощью прямого и обратного хода. Ни в каком виде нельзя ползоваться пакетными методами (в частности, la.solve)"
   ]
  },
  {
   "cell_type": "markdown",
   "metadata": {},
   "source": [
    "#### 1) Алгоритм разложения матрицы А в LU"
   ]
  },
  {
   "cell_type": "code",
   "execution_count": 125,
   "metadata": {},
   "outputs": [],
   "source": [
    "import numpy as np\n",
    "def LU(A):\n",
    "    # Проверка существования LU разложения из курса Вычебры, все верхние \n",
    "    # подматрицы нашей матрицы - невырождены\n",
    "    n = A.shape[0]\n",
    "    for i in range(n):\n",
    "        if np.linalg.det(A[:i+1, :i+1]) == 0:\n",
    "            raise Exception('Извините, не можем разложить это в LU')\n",
    "    L = np.zeros([A.shape[0], A.shape[1]])\n",
    "    for i in range(n):\n",
    "        L[i, i] = 1\n",
    "    U = np.zeros([A.shape[0], A.shape[1]])\n",
    "    \n",
    "    for i in range(n):\n",
    "        for j in range(n):\n",
    "            if i <= j:\n",
    "                U[i, j] = A[i, j] - np.dot(L[i, :i], U[:i, j])\n",
    "            if i > j:\n",
    "                L[i, j] = (A[i, j] - np.dot(L[i, :j], U[:j, j])) / U[j, j]\n",
    "                 \n",
    "            \n",
    "    return L, U"
   ]
  },
  {
   "cell_type": "code",
   "execution_count": 126,
   "metadata": {},
   "outputs": [
    {
     "data": {
      "text/plain": [
       "array([[1. , 0. ],\n",
       "       [0.8, 1. ]])"
      ]
     },
     "metadata": {},
     "output_type": "display_data"
    },
    {
     "data": {
      "text/plain": [
       "array([[ 5. , -3. ],\n",
       "       [ 0. ,  3.4]])"
      ]
     },
     "metadata": {},
     "output_type": "display_data"
    },
    {
     "name": "stdout",
     "output_type": "stream",
     "text": [
      "-----------Проверка-----------\n"
     ]
    },
    {
     "data": {
      "text/plain": [
       "array([[ 5., -3.],\n",
       "       [ 4.,  1.]])"
      ]
     },
     "metadata": {},
     "output_type": "display_data"
    }
   ],
   "source": [
    "A = np.matrix([[5,-3],[4,1]])\n",
    "sol = LU(A)\n",
    "display(sol[0])\n",
    "display(sol[1])\n",
    "print('-----------Проверка-----------')\n",
    "display(np.dot(sol[0],sol[1]))"
   ]
  },
  {
   "cell_type": "markdown",
   "metadata": {},
   "source": [
    "#### 2) Алгоритм решения СЛУ через LU разложение"
   ]
  },
  {
   "cell_type": "code",
   "execution_count": 127,
   "metadata": {},
   "outputs": [],
   "source": [
    "\n",
    "def LU_sys_sol(L, U, b):\n",
    "    n = L.shape[0]\n",
    "    y = np.matrix(np.zeros([n, 1]))\n",
    "    for i in range(n):\n",
    "        y[i] = b[i] - np.dot(L[i, :i],y[:i]) # прямая подстановка с исользованием нижней треугольной L\n",
    "                                       # Ly = b \n",
    "    x = np.matrix(np.zeros([n, 1]))\n",
    "    for i in reversed(range(n)):\n",
    "        x[i] = (y[i] - np.dot(U[i, i:],x[i:])) / U[i, i] # обратная подстановка с исользованием верхней треугольной U\n",
    "                                                   # Ux = y\n",
    "    return x"
   ]
  },
  {
   "cell_type": "code",
   "execution_count": 128,
   "metadata": {},
   "outputs": [
    {
     "name": "stdout",
     "output_type": "stream",
     "text": [
      "x = [[2.]\n",
      " [3.]]\n",
      "-----------Проверка-----------\n",
      "[[ 1.]\n",
      " [11.]]\n"
     ]
    }
   ],
   "source": [
    "b = np.matrix([1, 11]).T\n",
    "x = (LU_sys_sol(sol[0], sol[1], b))\n",
    "print('x =', x)\n",
    "print('-----------Проверка-----------')\n",
    "print(np.dot(A, x))"
   ]
  },
  {
   "cell_type": "markdown",
   "metadata": {
    "collapsed": true
   },
   "source": [
    "### LU - разложение с помощью пакета sympy"
   ]
  },
  {
   "cell_type": "markdown",
   "metadata": {},
   "source": [
    "Чтобы убедиться, что разложение получено верно, можно воспользоваться скриптом ниже"
   ]
  },
  {
   "cell_type": "code",
   "execution_count": 129,
   "metadata": {},
   "outputs": [
    {
     "data": {
      "text/latex": [
       "$\\displaystyle \\left[\\begin{matrix}1 & 0\\\\\\frac{4}{5} & 1\\end{matrix}\\right]$"
      ],
      "text/plain": [
       "Matrix([\n",
       "[  1, 0],\n",
       "[4/5, 1]])"
      ]
     },
     "metadata": {},
     "output_type": "display_data"
    },
    {
     "data": {
      "text/latex": [
       "$\\displaystyle \\left[\\begin{matrix}5 & -3\\\\0 & \\frac{17}{5}\\end{matrix}\\right]$"
      ],
      "text/plain": [
       "Matrix([\n",
       "[5,   -3],\n",
       "[0, 17/5]])"
      ]
     },
     "metadata": {},
     "output_type": "display_data"
    },
    {
     "data": {
      "text/latex": [
       "$\\displaystyle \\left[\\begin{matrix}5 & -3\\\\4 & 1\\end{matrix}\\right]$"
      ],
      "text/plain": [
       "Matrix([\n",
       "[5, -3],\n",
       "[4,  1]])"
      ]
     },
     "execution_count": 129,
     "metadata": {},
     "output_type": "execute_result"
    }
   ],
   "source": [
    "import sympy as sp\n",
    "\n",
    "A = sp.Matrix([[5, -3], [4, 1]])\n",
    "L, U, _ = A.LUdecomposition()\n",
    "display(L)\n",
    "display(U)\n",
    "L*U"
   ]
  },
  {
   "cell_type": "markdown",
   "metadata": {},
   "source": [
    "## Часть 2. Нахождение обратной матрицы с помощью LU разложения"
   ]
  },
  {
   "cell_type": "markdown",
   "metadata": {},
   "source": [
    "Задание:\n",
    "\n",
    "Предложить алгоритм с использованием LU-разложения и найти обратную матрицу с точностью $\\epsilon = 10^{-3}$:\n",
    "$$\n",
    "A = \\begin{pmatrix} \n",
    "1 & 1  & 1 \\\\\n",
    "0 & 1 & 2 \\\\\n",
    "7 & 1 & 4 \\\\\n",
    "\\end{pmatrix}\n",
    "$$\n",
    "Для необходимых оценок использовать первую норму. Сравнить результат со значением, найденным с помощью функции numpy.inv."
   ]
  },
  {
   "cell_type": "markdown",
   "metadata": {},
   "source": [
    "#### 3) Алгоритм нахождения обратной матрицы с помощью LU разложения "
   ]
  },
  {
   "cell_type": "code",
   "execution_count": 130,
   "metadata": {},
   "outputs": [],
   "source": [
    "import numpy.linalg as la\n",
    "# Ипользуем LU разложение как метод решения системы Аx = E_i, где E_i - i-й столбец единичной матрицы\n",
    "# Соответственно из всех таких столбцов х - составим обратную матрицу к А, окторая при умножении на неё даст Е\n",
    "def LU_mat_inv(L, U):\n",
    "    n = A.shape[0]\n",
    "    answ = np.zeros((n,n))\n",
    "    E = np.identity(n)\n",
    "    for i in range(n):    \n",
    "        x = LU_sys_sol(L, U, E[i]) \n",
    "        for j in range(n):\n",
    "            answ[j][i] = x[j]\n",
    "    return answ"
   ]
  },
  {
   "cell_type": "code",
   "execution_count": 131,
   "metadata": {},
   "outputs": [
    {
     "name": "stdout",
     "output_type": "stream",
     "text": [
      "[[ 0.22222222 -0.33333333  0.11111111]\n",
      " [ 1.55555556 -0.33333333 -0.22222222]\n",
      " [-0.77777778  0.66666667  0.11111111]]\n",
      " \n",
      "-----------Проверка-----------\n",
      " \n",
      "[[ 0.22222222 -0.33333333  0.11111111]\n",
      " [ 1.55555556 -0.33333333 -0.22222222]\n",
      " [-0.77777778  0.66666667  0.11111111]]\n"
     ]
    }
   ],
   "source": [
    "A = np.matrix([[1, 1, 1],[0, 1, 2], [7, 1, 4]])\n",
    "LU_res = LU(A)\n",
    "A_inv = LU_mat_inv(LU_res[0], LU_res[1])\n",
    "print(A_inv)\n",
    "print(' ')\n",
    "print('-----------Проверка-----------')\n",
    "print(' ')\n",
    "print(la.inv(A))"
   ]
  },
  {
   "cell_type": "code",
   "execution_count": null,
   "metadata": {},
   "outputs": [],
   "source": []
  }
 ],
 "metadata": {
  "anaconda-cloud": {},
  "kernelspec": {
   "display_name": "Python 3 (ipykernel)",
   "language": "python",
   "name": "python3"
  },
  "language_info": {
   "codemirror_mode": {
    "name": "ipython",
    "version": 3
   },
   "file_extension": ".py",
   "mimetype": "text/x-python",
   "name": "python",
   "nbconvert_exporter": "python",
   "pygments_lexer": "ipython3",
   "version": "3.9.7"
  }
 },
 "nbformat": 4,
 "nbformat_minor": 2
}
